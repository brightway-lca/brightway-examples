{
 "cells": [
  {
   "cell_type": "markdown",
   "metadata": {},
   "source": [
    "# Import Ecoinvent"
   ]
  },
  {
   "cell_type": "markdown",
   "metadata": {},
   "source": [
    "```{admonition} Authors\n",
    "This notebook was prepared in August 2023 by [`@michaelweinold`](https://github.com/michaelweinold).\n",
    "```\n",
    "```{admonition} Download\n",
    "You can download this notebook here: {nb-download}`import_ecoinvent.ipynb`\n",
    "```\n",
    "```{admonition} Prerequisites\n",
    "1. Access to the ecoinvent database (username/password).\n",
    "2. [A working installation of Brightway25.](https://docs.brightway.dev/en/latest/content/installation/index.html)\n",
    "```"
   ]
  },
  {
   "cell_type": "code",
   "execution_count": 1,
   "metadata": {},
   "outputs": [],
   "source": [
    "# Brightway packages\n",
    "import bw2io as bi\n",
    "import bw2data as bd\n",
    "# Brightway type hints\n",
    "from bw2io import SingleOutputEcospold2Importer\n",
    "# import/export\n",
    "import os"
   ]
  },
  {
   "cell_type": "code",
   "execution_count": null,
   "metadata": {},
   "outputs": [],
   "source": [
    "bd.projects.set_current(\"import_ecoinvent\")"
   ]
  },
  {
   "cell_type": "code",
   "execution_count": null,
   "metadata": {},
   "outputs": [],
   "source": [
    "if 'ecoinvent-3.9.1-cutoff' in bd.databases:\n",
    "    print('ecoinvent 3.9.1 is already present in the project')\n",
    "else:\n",
    "    bi.import_ecoinvent_release(\n",
    "        version='3.9.1',\n",
    "        system_model='cutoff', # can be cutoff / apos / consequential / EN15804\n",
    "        username='JohnDoe',\n",
    "        password='1234'\n",
    "    )"
   ]
  }
 ],
 "metadata": {
  "kernelspec": {
   "display_name": "pylcaio_ecoinvent_3_9",
   "language": "python",
   "name": "python3"
  },
  "language_info": {
   "codemirror_mode": {
    "name": "ipython",
    "version": 3
   },
   "file_extension": ".py",
   "mimetype": "text/x-python",
   "name": "python",
   "nbconvert_exporter": "python",
   "pygments_lexer": "ipython3",
   "version": "3.11.6"
  },
  "orig_nbformat": 4,
  "vscode": {
   "interpreter": {
    "hash": "3c89c8428eb62ebeff7cce9fe46d72c1c903a49cd2726d542d3c7356791f0388"
   }
  }
 },
 "nbformat": 4,
 "nbformat_minor": 2
}
